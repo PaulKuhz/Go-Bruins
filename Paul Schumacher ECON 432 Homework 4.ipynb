{
 "cells": [
  {
   "cell_type": "markdown",
   "id": "584730ce",
   "metadata": {},
   "source": [
    "# Python Exercises"
   ]
  },
  {
   "cell_type": "markdown",
   "id": "0734874d",
   "metadata": {},
   "source": [
    "This exercise uses weekly data in Apple from the  rst week of January,\n",
    "2010 to the last week of January, 2021. Use the adjusted closing prices\n",
    "to compute weekly cc returns. Assume that the returns are i.i.d., even\n",
    "though there may be some autocorrelation and volatility clustering is\n",
    "likely. In bootstrap, let B = 1000 and set the random seed to 432, i.e.,\n",
    "np.random.seed(432) in Python."
   ]
  },
  {
   "cell_type": "code",
   "execution_count": 2,
   "id": "d67fee12",
   "metadata": {},
   "outputs": [],
   "source": [
    "import pandas_datareader as web\n",
    "import numpy as np\n",
    "from scipy.stats import iqr, norm"
   ]
  },
  {
   "cell_type": "code",
   "execution_count": 3,
   "id": "d85cb3b5",
   "metadata": {},
   "outputs": [],
   "source": [
    "df = web.get_data_yahoo(\"AAPL\", start = \"2010-01-01\", end = \"2021-01-31\", interval='wk')\n",
    "df.reset_index(inplace = True) # convert index into a column\n",
    "\n",
    "Ret = np.log(df['Adj Close']/df['Adj Close'].shift(1))\n",
    "Ret = np.array(Ret)[1:]\n",
    "T = len(Ret)"
   ]
  },
  {
   "cell_type": "markdown",
   "id": "1794f1aa",
   "metadata": {},
   "source": [
    "(a) Find the **sample mean** and the **sample variance** of the cc return,\n",
    "and also their **standard errors (SEs)** using the formula provided\n",
    "in the slides of statistical inference."
   ]
  },
  {
   "cell_type": "code",
   "execution_count": 4,
   "id": "b53169d3",
   "metadata": {},
   "outputs": [
    {
     "name": "stdout",
     "output_type": "stream",
     "text": [
      "The sample mean is 0.005240\n",
      "The sample variance is 0.001373\n",
      "The standard error of mu_hat is 0.001541\n",
      "The standard error of sig2_hat is 0.000081\n"
     ]
    }
   ],
   "source": [
    "mu_h    = np.mean(Ret) #sample mean\n",
    "sig2_h  = np.var(Ret, ddof = 1)  #sample variance\n",
    "sd_mu   = np.sqrt(sig2_h/T) #standard error of mu_h\n",
    "sd_sig2 = sig2_h * np.sqrt(2/T) #standard error of sig2_h\n",
    "\n",
    "print(\"The sample mean is %.6f\" % mu_h)\n",
    "print(\"The sample variance is %.6f\" % sig2_h)\n",
    "print(\"The standard error of mu_hat is %.6f\" % sd_mu)\n",
    "print(\"The standard error of sig2_hat is %.6f\" % sd_sig2)"
   ]
  },
  {
   "cell_type": "markdown",
   "id": "d59588c4",
   "metadata": {},
   "source": [
    "(b)\n",
    "- Find the bootstrap SEs (the **bootstrap SEs** and the **bootstrap IQR SEs**) of the **sample mean** and the **sample variance**.\n",
    "- Compare the bootstrap SEs with the SEs in (a). Are they very different from each other for the same estimator (i.e., the sample mean and the sample variance)?"
   ]
  },
  {
   "cell_type": "code",
   "execution_count": 5,
   "id": "6bcf8fe3",
   "metadata": {},
   "outputs": [
    {
     "name": "stdout",
     "output_type": "stream",
     "text": [
      "The bootstrap SE of mu_hat is 0.001556\n",
      "The IQR SE of mu_hat is 0.001567\n",
      "The bootstrap SE of sig2_hat is 0.000114\n",
      "The IQR SE of sig2_hat is 0.000109\n"
     ]
    }
   ],
   "source": [
    "np.random.seed(432)\n",
    "B = 1000\n",
    "boot_samples = np.zeros((T, B))\n",
    "for b in range(B):\n",
    "    # take a random sample each iteration\n",
    "    boot_samples[:,b] = np.random.choice(Ret, replace = True, size = T) \n",
    "    \n",
    "boot_means = np.mean(boot_samples, axis = 0) # calculate sample mean for each column/iteration\n",
    "B_SE_mu = np.std(boot_means, ddof = 1)\n",
    "IQR_SE_mu = iqr(boot_means, interpolation = 'linear')/(norm.ppf(0.75) - norm.ppf(0.25))\n",
    "print(\"The bootstrap SE of mu_hat is %.6f\" % B_SE_mu)\n",
    "print(\"The IQR SE of mu_hat is %.6f\" % IQR_SE_mu)\n",
    "\n",
    "boot_vars = np.var(boot_samples, ddof = 1, axis = 0) # calculate sample variance for each column/iteration\n",
    "B_SE_sig2 = np.std(boot_vars, ddof = 1)\n",
    "IQR_SE_sig2 = iqr(boot_vars, interpolation = 'linear')/(norm.ppf(0.75) - norm.ppf(0.25))\n",
    "print(\"The bootstrap SE of sig2_hat is %.6f\" % B_SE_sig2)\n",
    "print(\"The IQR SE of sig2_hat is %.6f\" % IQR_SE_sig2)"
   ]
  },
  {
   "cell_type": "markdown",
   "id": "b3c8aae9",
   "metadata": {},
   "source": [
    "In General, the respective values are close to each other which implies that the bootstrap method is usefule in estimating the characteristics of the real/sample population:\n",
    "- The bootstrap SE of mu_hat is 0.001556 and a little higher than the sample mean SE of 0.001541.\n",
    "- The bootstrap SE of sig2_hat is 0.000114 and also a little higher the sample variance SE of sig2_hat of 0.000081."
   ]
  },
  {
   "cell_type": "markdown",
   "id": "9bde2c56",
   "metadata": {},
   "source": [
    "(c) Find the bootstrap SEs (the **bootstrap SEs** and the **bootstrap IQR SEs**) of the sample standard deviation."
   ]
  },
  {
   "cell_type": "code",
   "execution_count": 6,
   "id": "95692ef9",
   "metadata": {},
   "outputs": [
    {
     "name": "stdout",
     "output_type": "stream",
     "text": [
      "The bootstrap SE of sig_hat is 0.001542\n",
      "The IQR SE of sig_hat is 0.001479\n"
     ]
    }
   ],
   "source": [
    "boot_sds = np.std(boot_samples, ddof = 1, axis = 0)\n",
    "B_SE_sig = np.std(boot_sds, ddof = 1)\n",
    "IQR_SE_sig = iqr(boot_sds, interpolation = 'linear')/(norm.ppf(0.75) - norm.ppf(0.25))\n",
    "print(\"The bootstrap SE of sig_hat is %.6f\" % B_SE_sig)\n",
    "print(\"The IQR SE of sig_hat is %.6f\" % IQR_SE_sig)"
   ]
  },
  {
   "cell_type": "markdown",
   "id": "941c1ba1",
   "metadata": {},
   "source": [
    "(d) Estimate the bias and the mean square error of the sample standard deviation using bootstrap."
   ]
  },
  {
   "cell_type": "code",
   "execution_count": 7,
   "id": "2c2333d3",
   "metadata": {},
   "outputs": [
    {
     "name": "stdout",
     "output_type": "stream",
     "text": [
      "The bootstrap bias of sig_hat is -0.000141\n",
      "The bootstrap MSE of sig_hat is 0.000002\n"
     ]
    }
   ],
   "source": [
    "sig_h = np.std(Ret, ddof = 1)\n",
    "B_Bias_sig = np.mean(boot_sds) - sig_h\n",
    "B_MSE_sig = np.mean((boot_sds - sig_h) ** 2)\n",
    "print(\"The bootstrap bias of sig_hat is %.6f\" % B_Bias_sig)\n",
    "print(\"The bootstrap MSE of sig_hat is %.6f\" % B_MSE_sig)"
   ]
  },
  {
   "cell_type": "markdown",
   "id": "498149af",
   "metadata": {},
   "source": [
    "(e) Construct the equal tail and the symmetric 95% bootstrap confidence intervals of the standard deviation of the cc return."
   ]
  },
  {
   "cell_type": "code",
   "execution_count": 8,
   "id": "19301c84",
   "metadata": {},
   "outputs": [
    {
     "name": "stdout",
     "output_type": "stream",
     "text": [
      "[0.03413049198104888, 0.040135445834804995]\n",
      "[0.0340698466906352, 0.040030283556042226]\n"
     ]
    }
   ],
   "source": [
    "q_et_1 = np.quantile(sig_h - boot_sds, 0.025)\n",
    "q_et_2 = np.quantile(sig_h - boot_sds, 0.975)\n",
    "q_sym = np.quantile(np.abs(boot_sds - sig_h ), 0.95)\n",
    "\n",
    "print([sig_h + q_et_1, sig_h + q_et_2])\n",
    "print([sig_h - q_sym, sig_h + q_sym])"
   ]
  },
  {
   "cell_type": "markdown",
   "id": "74dc29c9",
   "metadata": {},
   "source": [
    "(f) Suppose we invest 1000 USD on Apple for one week. Find the **parametric** and the **nonparametric** estimators of **VaR(0.1)** and **ES(0.1)** for this investment. For the parametric estimator you shall assume that the returns are normally distributed."
   ]
  },
  {
   "cell_type": "code",
   "execution_count": 9,
   "id": "e6ab3a74",
   "metadata": {},
   "outputs": [
    {
     "name": "stdout",
     "output_type": "stream",
     "text": [
      "The parametric estimate of VaR(0.1) is -41.361413\n",
      "The nonparametric estimate of VaR(0.1) is -38.195320\n",
      "The parametric estimate of ES(0.1) is -57.830475\n",
      "The nonparametric estimate of ES(0.1) is -62.535312\n"
     ]
    }
   ],
   "source": [
    "W0 = 1000\n",
    "q1 = norm.ppf(0.1, loc = mu_h, scale = sig_h)\n",
    "q2 = np.quantile(Ret, 0.1, interpolation='linear')\n",
    "\n",
    "VaR_1 = W0 * (np.exp(q1) - 1)\n",
    "VaR_2 = W0 * (np.exp(q2) - 1)\n",
    "print(\"The parametric estimate of VaR(0.1) is %.6f\" % VaR_1)\n",
    "print(\"The nonparametric estimate of VaR(0.1) is %.6f\" % VaR_2)\n",
    "\n",
    "nsim = 500000\n",
    "r_B = norm.rvs(loc = mu_h, scale = sig_h, size=nsim, random_state=432)\n",
    "L_B = W0 * (np.exp(r_B) - 1)\n",
    "I_B = (L_B <= VaR_1) * 1\n",
    "ES_1 = np.mean(L_B * I_B)/np.mean(I_B)\n",
    "\n",
    "L_1 = W0 * (np.exp(Ret) - 1)\n",
    "I_1 = (L_1 <= VaR_2)\n",
    "ES_2 = np.mean(L_1 * I_1)/np.mean(I_1)\n",
    "\n",
    "print(\"The parametric estimate of ES(0.1) is %.6f\" % ES_1)\n",
    "print(\"The nonparametric estimate of ES(0.1) is %.6f\" % ES_2)"
   ]
  },
  {
   "cell_type": "markdown",
   "id": "a200edbb",
   "metadata": {},
   "source": [
    "(g) Find the bootstrap SEs (the **bootstrap SEs** and the **bootstrap IQR\n",
    "SEs**) of the nonparametric estimators of VaR(0.1) and ES(0.1) in\n",
    "(f)."
   ]
  },
  {
   "cell_type": "code",
   "execution_count": 11,
   "id": "7f3d7d1a",
   "metadata": {},
   "outputs": [
    {
     "name": "stdout",
     "output_type": "stream",
     "text": [
      "The bootstrap SE of the nonparametric estimator of VaR(0.1) is 2.743492\n",
      "The bootstrap IQR SE of the nonparametric estimator of VaR(0.1) is 2.708308\n",
      "The bootstrap SE of the nonparametric estimator of ES(0.1) is 4.433590\n",
      "The bootstrap IQR SE of the nonparametric estimator of ES(0.1) is 4.437280\n"
     ]
    }
   ],
   "source": [
    "# Inference on VaR based on bootstrap\n",
    "def VaR(y, p = 0.1, W0 = W0):\n",
    "    mu = np.mean(y)\n",
    "    q = np.quantile(y, p, interpolation='linear')\n",
    "    return W0 * (np.exp(q) - 1)\n",
    "\n",
    "# Inference on ES based on bootstrap\n",
    "def ES(y, p=0.1, W0 = W0):\n",
    "    mu = np.mean(y)\n",
    "    q = np.quantile(y, p, interpolation='linear')\n",
    "    VaR_np = W0 * (np.exp(q) - 1)\n",
    "    L_1 = W0 * (np.exp(y) - 1)\n",
    "    I_1 = (L_1 <= VaR_np) * 1\n",
    "    return np.mean(L_1 * I_1)/np.mean(I_1)\n",
    "\n",
    "    \n",
    "def boot(data, func, nboot=5000, n=T):\n",
    "    \"\"\"\n",
    "    func: function, VaR or ES\n",
    "    nboot: number of bootstrap samples\n",
    "    n: size of a boostrap sample\n",
    "    \"\"\"\n",
    "    result = np.zeros(nboot)\n",
    "    for i in range(nboot):\n",
    "        boot_sample = np.random.choice(data, replace = True, size = n)\n",
    "        result[i] = func(boot_sample)\n",
    "    return result\n",
    "\n",
    "np.random.seed(432)\n",
    "\n",
    "VaR_est = VaR(Ret)\n",
    "\n",
    "boot_VaR = boot(data = Ret, func = VaR)\n",
    "BootSE_VaR = np.std(boot_VaR, ddof = 1)\n",
    "Boot_SE_CI095_VaR = [VaR_est - BootSE_VaR*1.96, VaR_est + BootSE_VaR*1.96] # Bootstrap CI using Boot-SE\n",
    "\n",
    "Boot_IQR_SE_VaR = (np.quantile(boot_VaR, 0.75) - np.quantile(boot_VaR, 0.25))/(norm.ppf(0.75) - norm.ppf(0.25))\n",
    "Boot_IQR_SE_CI095_VaR = [VaR_est - Boot_IQR_SE_VaR * 1.96, VaR_est + Boot_IQR_SE_VaR * 1.96] # Bootstrap CI using IQR Boot-SE\n",
    "\n",
    "print(\"The bootstrap SE of the nonparametric estimator of VaR(0.1) is %.6f\" % BootSE_VaR)\n",
    "print(\"The bootstrap IQR SE of the nonparametric estimator of VaR(0.1) is %.6f\" % Boot_IQR_SE_VaR)\n",
    "\n",
    "\n",
    "ES_est = ES(Ret)\n",
    "\n",
    "boot_ES = boot(data = Ret, func = ES)\n",
    "BootSE_ES = np.std(boot_ES, ddof = 1)\n",
    "Boot_SE_CI095_ES = [ES_est - BootSE_ES*1.96, ES_est + BootSE_ES*1.96] # Bootstrap CI using Boot-SE\n",
    " \n",
    "\n",
    "Boot_IQR_SE_ES = (np.quantile(boot_ES, 0.75) - np.quantile(boot_ES, 0.25))/(norm.ppf(0.75) - norm.ppf(0.25))\n",
    "Boot_IQR_SE_CI095_ES = [ES_est - Boot_IQR_SE_ES * 1.96, ES_est + Boot_IQR_SE_ES * 1.96] # Bootstrap CI using IQR Boot-SE\n",
    "\n",
    "print(\"The bootstrap SE of the nonparametric estimator of ES(0.1) is %.6f\" % BootSE_ES)\n",
    "print(\"The bootstrap IQR SE of the nonparametric estimator of ES(0.1) is %.6f\" % Boot_IQR_SE_ES)"
   ]
  },
  {
   "cell_type": "markdown",
   "id": "590936b2",
   "metadata": {},
   "source": [
    "(h) Find the 95% confidence intervals of VaR(0.1) and ES(0.1) using\n",
    "the nonparametric method in (f)."
   ]
  },
  {
   "cell_type": "code",
   "execution_count": 12,
   "id": "05141b39",
   "metadata": {},
   "outputs": [
    {
     "name": "stdout",
     "output_type": "stream",
     "text": [
      "The 95 percent CI using the bootstrap SE is  [-43.57256419619579, -32.81807642287951]\n",
      "The 95 percent CI using the bootstrap IQR SE is  [-43.503603521077856, -32.88703709799744]\n",
      "The 95 percent CI using the bootstrap SE is  [-71.22514853676557, -53.845475275009754]\n",
      "The 95 percent CI using the bootstrap IQR SE is  [-71.23238063753166, -53.83824317424366]\n"
     ]
    }
   ],
   "source": [
    "print(\"The 95 percent CI using the bootstrap SE is \", Boot_SE_CI095_VaR)\n",
    "print(\"The 95 percent CI using the bootstrap IQR SE is \", Boot_IQR_SE_CI095_VaR)\n",
    "print(\"The 95 percent CI using the bootstrap SE is \", Boot_SE_CI095_ES)\n",
    "print(\"The 95 percent CI using the bootstrap IQR SE is \", Boot_IQR_SE_CI095_ES)"
   ]
  },
  {
   "cell_type": "code",
   "execution_count": null,
   "id": "b3463f21",
   "metadata": {},
   "outputs": [],
   "source": []
  }
 ],
 "metadata": {
  "kernelspec": {
   "display_name": "Python 3",
   "language": "python",
   "name": "python3"
  },
  "language_info": {
   "codemirror_mode": {
    "name": "ipython",
    "version": 3
   },
   "file_extension": ".py",
   "mimetype": "text/x-python",
   "name": "python",
   "nbconvert_exporter": "python",
   "pygments_lexer": "ipython3",
   "version": "3.8.8"
  }
 },
 "nbformat": 4,
 "nbformat_minor": 5
}
